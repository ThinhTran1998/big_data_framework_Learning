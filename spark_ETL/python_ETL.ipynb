{
 "cells": [
  {
   "cell_type": "code",
   "execution_count": 1,
   "id": "3928dc1c",
   "metadata": {},
   "outputs": [],
   "source": [
    "import findspark\n",
    "# findspark.init()\n",
    "findspark.add_packages('mysql:mysql-connector-java:8.0.11')\n",
    "\n",
    "import pyspark\n",
    "from pyspark.sql import SQLContext"
   ]
  },
  {
   "cell_type": "code",
   "execution_count": 2,
   "id": "8d6c399e",
   "metadata": {},
   "outputs": [],
   "source": [
    "#Extraction\n",
    "\n",
    "sc = pyspark.SparkContext()\n",
    "sqlCtx = SQLContext(sc)"
   ]
  },
  {
   "cell_type": "code",
   "execution_count": null,
   "id": "4903a03e",
   "metadata": {},
   "outputs": [],
   "source": [
    "\n",
    "pop_data = sqlCtx.read.option(\"header\",True).csv(\"./movies.csv\")\n",
    "pop_data.show(5)"
   ]
  },
  {
   "cell_type": "code",
   "execution_count": 41,
   "id": "a0ccdee1",
   "metadata": {},
   "outputs": [
    {
     "name": "stdout",
     "output_type": "stream",
     "text": [
      "+-------+--------------------+--------------------+\n",
      "|movieId|               title|              genres|\n",
      "+-------+--------------------+--------------------+\n",
      "|      1|    Toy Story (1995)|Adventure|Animati...|\n",
      "|      3|Grumpier Old Men ...|      Comedy|Romance|\n",
      "|      4|Waiting to Exhale...|Comedy|Drama|Romance|\n",
      "|      5|Father of the Bri...|              Comedy|\n",
      "|      7|      Sabrina (1995)|      Comedy|Romance|\n",
      "+-------+--------------------+--------------------+\n",
      "only showing top 5 rows\n",
      "\n"
     ]
    }
   ],
   "source": [
    "#Transformation\n",
    "\n",
    "\n",
    "movies_comedy = pop_data.filter(pop_data['genres'].contains('Comedy')).filter(pop_data['title'].contains('1995'))\n",
    "movies_comedy.show(5)"
   ]
  },
  {
   "cell_type": "code",
   "execution_count": null,
   "id": "88a8613c",
   "metadata": {},
   "outputs": [],
   "source": []
  },
  {
   "cell_type": "code",
   "execution_count": 26,
   "id": "e86a09b8",
   "metadata": {},
   "outputs": [],
   "source": [
    "import mysql.connector\n",
    "import pandas as pd"
   ]
  },
  {
   "cell_type": "code",
   "execution_count": 69,
   "id": "ae2f80ea",
   "metadata": {},
   "outputs": [],
   "source": [
    "conn = mysql.connector.connect(user = 'root', database='test_Thinh_mysql',\n",
    "                              password='Abc12345',\n",
    "                              host='127.0.0.1',\n",
    "                              port=3306)\n",
    "\n",
    "cursor = conn.cursor()\n",
    "# cursor.execute(\"\"\"CREATE TABLE movie_comedy (movieID integer NOT NULL, title varchar(100), genres varchar(50));\"\"\")"
   ]
  },
  {
   "cell_type": "code",
   "execution_count": 23,
   "id": "07502055",
   "metadata": {},
   "outputs": [],
   "source": [
    "a = [tuple(x) for x in movies_comedy.collect()]\n",
    "q = \"insert into movie_comedy (movieID, title, genres) value (%s, %s, %s)\"\n",
    "\n",
    "cursor.executemany(q,a)"
   ]
  },
  {
   "cell_type": "code",
   "execution_count": 60,
   "id": "b566df40",
   "metadata": {},
   "outputs": [
    {
     "name": "stdout",
     "output_type": "stream",
     "text": [
      "(1, 'Toy Story (1995)', 'Adventure|Animation|Children|Comedy|Fantasy')\n",
      "(3, 'Grumpier Old Men (1995)', 'Comedy|Romance')\n",
      "(4, 'Waiting to Exhale (1995)', 'Comedy|Drama|Romance')\n",
      "(5, 'Father of the Bride Part II (1995)', 'Comedy')\n",
      "(7, 'Sabrina (1995)', 'Comedy|Romance')\n"
     ]
    }
   ],
   "source": [
    "cursor.execute(\"select * from movie_comedy;\")\n",
    "# result = cursor.fetchall()\n",
    "result = cursor.fetchmany(5)\n",
    "\n",
    "\n",
    "for row in result:\n",
    "    print (row)"
   ]
  },
  {
   "cell_type": "code",
   "execution_count": 75,
   "id": "9ab3ef42",
   "metadata": {},
   "outputs": [],
   "source": [
    "conn.commit()"
   ]
  },
  {
   "cell_type": "code",
   "execution_count": null,
   "id": "ab148a81",
   "metadata": {},
   "outputs": [],
   "source": []
  },
  {
   "cell_type": "code",
   "execution_count": 65,
   "id": "bb162803",
   "metadata": {},
   "outputs": [],
   "source": []
  },
  {
   "cell_type": "code",
   "execution_count": 74,
   "id": "c8c5ac2a",
   "metadata": {},
   "outputs": [
    {
     "data": {
      "text/html": [
       "<div>\n",
       "<style scoped>\n",
       "    .dataframe tbody tr th:only-of-type {\n",
       "        vertical-align: middle;\n",
       "    }\n",
       "\n",
       "    .dataframe tbody tr th {\n",
       "        vertical-align: top;\n",
       "    }\n",
       "\n",
       "    .dataframe thead th {\n",
       "        text-align: right;\n",
       "    }\n",
       "</style>\n",
       "<table border=\"1\" class=\"dataframe\">\n",
       "  <thead>\n",
       "    <tr style=\"text-align: right;\">\n",
       "      <th></th>\n",
       "      <th>movieID</th>\n",
       "      <th>title</th>\n",
       "      <th>genres</th>\n",
       "    </tr>\n",
       "  </thead>\n",
       "  <tbody>\n",
       "    <tr>\n",
       "      <th>0</th>\n",
       "      <td>1</td>\n",
       "      <td>Toy Story (1995)</td>\n",
       "      <td>Adventure|Animation|Children|Comedy|Fantasy</td>\n",
       "    </tr>\n",
       "    <tr>\n",
       "      <th>1</th>\n",
       "      <td>3</td>\n",
       "      <td>Grumpier Old Men (1995)</td>\n",
       "      <td>Comedy|Romance</td>\n",
       "    </tr>\n",
       "    <tr>\n",
       "      <th>2</th>\n",
       "      <td>4</td>\n",
       "      <td>Waiting to Exhale (1995)</td>\n",
       "      <td>Comedy|Drama|Romance</td>\n",
       "    </tr>\n",
       "    <tr>\n",
       "      <th>3</th>\n",
       "      <td>5</td>\n",
       "      <td>Father of the Bride Part II (1995)</td>\n",
       "      <td>Comedy</td>\n",
       "    </tr>\n",
       "    <tr>\n",
       "      <th>4</th>\n",
       "      <td>7</td>\n",
       "      <td>Sabrina (1995)</td>\n",
       "      <td>Comedy|Romance</td>\n",
       "    </tr>\n",
       "    <tr>\n",
       "      <th>...</th>\n",
       "      <td>...</td>\n",
       "      <td>...</td>\n",
       "      <td>...</td>\n",
       "    </tr>\n",
       "    <tr>\n",
       "      <th>163</th>\n",
       "      <td>192721</td>\n",
       "      <td>Doctor Mack (1995)</td>\n",
       "      <td>Comedy|Drama</td>\n",
       "    </tr>\n",
       "    <tr>\n",
       "      <th>164</th>\n",
       "      <td>194474</td>\n",
       "      <td>A Chinese Odyssey Part Two: Cinderella (1995)</td>\n",
       "      <td>Comedy</td>\n",
       "    </tr>\n",
       "    <tr>\n",
       "      <th>165</th>\n",
       "      <td>196683</td>\n",
       "      <td>Pet Shop (1995)</td>\n",
       "      <td>Children|Comedy|Sci-Fi</td>\n",
       "    </tr>\n",
       "    <tr>\n",
       "      <th>166</th>\n",
       "      <td>204566</td>\n",
       "      <td>Summer Snow (1995)</td>\n",
       "      <td>Comedy|Drama</td>\n",
       "    </tr>\n",
       "    <tr>\n",
       "      <th>167</th>\n",
       "      <td>205697</td>\n",
       "      <td>The Nutty Boy: A Film (1995)</td>\n",
       "      <td>Adventure|Children|Comedy</td>\n",
       "    </tr>\n",
       "  </tbody>\n",
       "</table>\n",
       "<p>168 rows × 3 columns</p>\n",
       "</div>"
      ],
      "text/plain": [
       "     movieID                                          title  \\\n",
       "0          1                               Toy Story (1995)   \n",
       "1          3                        Grumpier Old Men (1995)   \n",
       "2          4                       Waiting to Exhale (1995)   \n",
       "3          5             Father of the Bride Part II (1995)   \n",
       "4          7                                 Sabrina (1995)   \n",
       "..       ...                                            ...   \n",
       "163   192721                             Doctor Mack (1995)   \n",
       "164   194474  A Chinese Odyssey Part Two: Cinderella (1995)   \n",
       "165   196683                                Pet Shop (1995)   \n",
       "166   204566                             Summer Snow (1995)   \n",
       "167   205697                   The Nutty Boy: A Film (1995)   \n",
       "\n",
       "                                          genres  \n",
       "0    Adventure|Animation|Children|Comedy|Fantasy  \n",
       "1                                 Comedy|Romance  \n",
       "2                           Comedy|Drama|Romance  \n",
       "3                                         Comedy  \n",
       "4                                 Comedy|Romance  \n",
       "..                                           ...  \n",
       "163                                 Comedy|Drama  \n",
       "164                                       Comedy  \n",
       "165                       Children|Comedy|Sci-Fi  \n",
       "166                                 Comedy|Drama  \n",
       "167                    Adventure|Children|Comedy  \n",
       "\n",
       "[168 rows x 3 columns]"
      ]
     },
     "execution_count": 74,
     "metadata": {},
     "output_type": "execute_result"
    }
   ],
   "source": [
    "query = \"SELECT * FROM movie_comedy\"\n",
    "pdf = pd.read_sql(query, con=conn)\n",
    "pdf"
   ]
  },
  {
   "cell_type": "code",
   "execution_count": null,
   "id": "0348cd67",
   "metadata": {},
   "outputs": [],
   "source": []
  },
  {
   "cell_type": "code",
   "execution_count": 5,
   "id": "498ce525",
   "metadata": {},
   "outputs": [
    {
     "name": "stdout",
     "output_type": "stream",
     "text": [
      "+-------+--------------------+--------------------+\n",
      "|movieID|               title|              genres|\n",
      "+-------+--------------------+--------------------+\n",
      "|      1|    Toy Story (1995)|Adventure|Animati...|\n",
      "|      3|Grumpier Old Men ...|      Comedy|Romance|\n",
      "|      4|Waiting to Exhale...|Comedy|Drama|Romance|\n",
      "|      5|Father of the Bri...|              Comedy|\n",
      "|      7|      Sabrina (1995)|      Comedy|Romance|\n",
      "+-------+--------------------+--------------------+\n",
      "only showing top 5 rows\n",
      "\n"
     ]
    }
   ],
   "source": [
    "# import findspark\n",
    "# findspark.add_packages('mysql:mysql-connector-java:8.0.11')\n",
    "\n",
    "# sc = pyspark.SparkContext()\n",
    "# sqlCtx = SQLContext(sc)\n",
    "\n",
    "dataframe_mysql = sqlCtx.read.format(\"jdbc\")\\\n",
    "            .option(\"url\", \"jdbc:mysql://127.0.0.1/test_Thinh_mysql\")\\\n",
    "            .option(\"driver\", \"com.mysql.jdbc.Driver\")\\\n",
    "            .option(\"dbtable\", \"movie_comedy\")\\\n",
    "            .option(\"user\", \"root\")\\\n",
    "            .option(\"password\", \"Abc12345\").load()\n",
    "\n",
    "dataframe_mysql.show(5)"
   ]
  },
  {
   "cell_type": "code",
   "execution_count": null,
   "id": "7410d47c",
   "metadata": {},
   "outputs": [],
   "source": []
  }
 ],
 "metadata": {
  "kernelspec": {
   "display_name": "Python 3",
   "language": "python",
   "name": "python3"
  },
  "language_info": {
   "codemirror_mode": {
    "name": "ipython",
    "version": 3
   },
   "file_extension": ".py",
   "mimetype": "text/x-python",
   "name": "python",
   "nbconvert_exporter": "python",
   "pygments_lexer": "ipython3",
   "version": "3.6.8"
  }
 },
 "nbformat": 4,
 "nbformat_minor": 5
}
